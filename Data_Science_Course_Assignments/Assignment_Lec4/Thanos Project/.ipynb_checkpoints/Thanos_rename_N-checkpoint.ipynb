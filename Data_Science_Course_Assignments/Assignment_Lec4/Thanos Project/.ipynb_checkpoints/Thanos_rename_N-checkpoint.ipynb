{
 "cells": [
  {
   "cell_type": "markdown",
   "metadata": {},
   "source": [
    "<img src=\"thanos.jpg\">"
   ]
  },
  {
   "cell_type": "code",
   "execution_count": 15,
   "metadata": {},
   "outputs": [
    {
     "data": {
      "text/plain": [
       "['cover001.png',\n",
       " 'cover002.png',\n",
       " 'cover003.png',\n",
       " 'cover004.png',\n",
       " 'cover005.png',\n",
       " 'cover006.png',\n",
       " 'cover007.png',\n",
       " 'cover008.png',\n",
       " 'cover009.png',\n",
       " 'cover010.png',\n",
       " 'cover011.png',\n",
       " 'cover012.png',\n",
       " 'cover013.png',\n",
       " 'cover014.png',\n",
       " 'cover015.png',\n",
       " 'cover016.png',\n",
       " 'cover017.png',\n",
       " 'cover018.png',\n",
       " 'cover019.png',\n",
       " 'cover020.png',\n",
       " 'cover021.png',\n",
       " 'cover022.png',\n",
       " 'cover023.png',\n",
       " 'cover024.png',\n",
       " 'cover025.png',\n",
       " 'cover026.png',\n",
       " 'cover027.png',\n",
       " 'cover028.png',\n",
       " 'cover029.png',\n",
       " 'cover030.png',\n",
       " 'cover031.png',\n",
       " 'cover032.png',\n",
       " 'cover033.png',\n",
       " 'cover034.png',\n",
       " 'cover035.png',\n",
       " 'cover036.png',\n",
       " 'cover037.png',\n",
       " 'cover038.png',\n",
       " 'cover039.png',\n",
       " 'cover040.png',\n",
       " 'cover041.png',\n",
       " 'cover042.png',\n",
       " 'cover043.png',\n",
       " 'cover044.png',\n",
       " 'cover045.png',\n",
       " 'cover046.png',\n",
       " 'cover047.png',\n",
       " 'cover048.png',\n",
       " 'cover049.png',\n",
       " 'cover050.png']"
      ]
     },
     "execution_count": 15,
     "metadata": {},
     "output_type": "execute_result"
    }
   ],
   "source": [
    "import os\n",
    "os.listdir(\"universe\")"
   ]
  },
  {
   "cell_type": "code",
   "execution_count": 18,
   "metadata": {},
   "outputs": [],
   "source": [
    "import os,random,string\n",
    "import glob\n",
    "\n",
    "path = 'universe/'\n",
    "\n",
    "def rename_files(): \n",
    "\n",
    "    \n",
    "    i = 1\n",
    "\n",
    "for i, filename in enumerate(glob.glob(path + '*.png')): \n",
    "\n",
    "    os.rename(filename[:], os.path.join(path, 'image' + str(i)  + '.jpg'))\n",
    "\n",
    "    \n",
    "\n",
    "if __name__ == '__main__': \n",
    "\n",
    "    rename_files() "
   ]
  },
  {
   "cell_type": "code",
   "execution_count": 19,
   "metadata": {},
   "outputs": [
    {
     "data": {
      "text/plain": [
       "['image0.jpg',\n",
       " 'image1.jpg',\n",
       " 'image10.jpg',\n",
       " 'image11.jpg',\n",
       " 'image12.jpg',\n",
       " 'image13.jpg',\n",
       " 'image14.jpg',\n",
       " 'image15.jpg',\n",
       " 'image16.jpg',\n",
       " 'image17.jpg',\n",
       " 'image18.jpg',\n",
       " 'image19.jpg',\n",
       " 'image2.jpg',\n",
       " 'image20.jpg',\n",
       " 'image21.jpg',\n",
       " 'image22.jpg',\n",
       " 'image23.jpg',\n",
       " 'image24.jpg',\n",
       " 'image25.jpg',\n",
       " 'image26.jpg',\n",
       " 'image27.jpg',\n",
       " 'image28.jpg',\n",
       " 'image29.jpg',\n",
       " 'image3.jpg',\n",
       " 'image30.jpg',\n",
       " 'image31.jpg',\n",
       " 'image32.jpg',\n",
       " 'image33.jpg',\n",
       " 'image34.jpg',\n",
       " 'image35.jpg',\n",
       " 'image36.jpg',\n",
       " 'image37.jpg',\n",
       " 'image38.jpg',\n",
       " 'image39.jpg',\n",
       " 'image4.jpg',\n",
       " 'image40.jpg',\n",
       " 'image41.jpg',\n",
       " 'image42.jpg',\n",
       " 'image43.jpg',\n",
       " 'image44.jpg',\n",
       " 'image45.jpg',\n",
       " 'image46.jpg',\n",
       " 'image47.jpg',\n",
       " 'image48.jpg',\n",
       " 'image49.jpg',\n",
       " 'image5.jpg',\n",
       " 'image6.jpg',\n",
       " 'image7.jpg',\n",
       " 'image8.jpg',\n",
       " 'image9.jpg']"
      ]
     },
     "execution_count": 19,
     "metadata": {},
     "output_type": "execute_result"
    }
   ],
   "source": [
    "os.listdir(\"universe\")"
   ]
  },
  {
   "cell_type": "markdown",
   "metadata": {},
   "source": [
    "# Great Work!"
   ]
  },
  {
   "cell_type": "code",
   "execution_count": null,
   "metadata": {},
   "outputs": [],
   "source": []
  }
 ],
 "metadata": {
  "kernelspec": {
   "display_name": "Python 3",
   "language": "python",
   "name": "python3"
  },
  "language_info": {
   "codemirror_mode": {
    "name": "ipython",
    "version": 3
   },
   "file_extension": ".py",
   "mimetype": "text/x-python",
   "name": "python",
   "nbconvert_exporter": "python",
   "pygments_lexer": "ipython3",
   "version": "3.7.6"
  }
 },
 "nbformat": 4,
 "nbformat_minor": 2
}
