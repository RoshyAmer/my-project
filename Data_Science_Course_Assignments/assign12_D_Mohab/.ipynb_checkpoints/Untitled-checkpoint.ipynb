{
 "cells": [
  {
   "cell_type": "markdown",
   "metadata": {},
   "source": [
    "#### write a python function accepting two inputs, a, b, such that a, and b are two vectors of the same length, and return the dot product between them."
   ]
  },
  {
   "cell_type": "code",
   "execution_count": 5,
   "metadata": {},
   "outputs": [
    {
     "name": "stdout",
     "output_type": "stream",
     "text": [
      "18\n"
     ]
    }
   ],
   "source": [
    "def dot(vector_a, vector_b):\n",
    "    if len(vector_a) != len(vector_b):\n",
    "        raise ValueError\n",
    "    total = 0\n",
    "    for i in range(len(vector_a)):\n",
    "        total += vector_a[i] * vector_b[i]\n",
    "    return total\n",
    "\n",
    "vector_a = [2, 3, 4]\n",
    "vector_b = [4, 2, 1]\n",
    "print(dot(vector_a,vector_b))"
   ]
  },
  {
   "cell_type": "markdown",
   "metadata": {},
   "source": [
    "#### secondly try to calculate the angle between them based on what you learnt from the previous lecture.optional, write a different function to test your results using numpy.dot function"
   ]
  },
  {
   "cell_type": "code",
   "execution_count": 7,
   "metadata": {},
   "outputs": [
    {
     "name": "stdout",
     "output_type": "stream",
     "text": [
      "4 6 8 9\n",
      "Cosθ = 0.9904048953654893\n",
      "θ = 7.943471810590413 °\n"
     ]
    }
   ],
   "source": [
    "import math\n",
    "\n",
    "a,b,c,d = input().split(\" \")\n",
    "a,b,c,d=int(a),int(b),int(c),int(d)\n",
    "\n",
    "def angle_of_vectors(a,b,c,d):\n",
    "    \n",
    "     dotProduct = a*c + b*d\n",
    "         # for three dimensional simply add dotProduct = a*c + b*d  + e*f \n",
    "     modOfVector1 = math.sqrt( a*a + b*b)*math.sqrt(c*c + d*d) \n",
    "         # for three dimensional simply add modOfVector = math.sqrt( a*a + b*b + e*e)*math.sqrt(c*c + d*d +f*f) \n",
    "     angle = dotProduct/modOfVector1\n",
    "     print(\"Cosθ =\",angle)\n",
    "     angleInDegree = math.degrees(math.acos(angle))\n",
    "     print(\"θ =\",angleInDegree,\"°\")\n",
    "     \n",
    "angle_of_vectors(a,b,c,d)"
   ]
  },
  {
   "cell_type": "code",
   "execution_count": 6,
   "metadata": {},
   "outputs": [
    {
     "name": "stdout",
     "output_type": "stream",
     "text": [
      "1.35970299357215\n",
      "77.9052429229879\n"
     ]
    }
   ],
   "source": [
    "import numpy as np\n",
    "import numpy.linalg as LA\n",
    "\n",
    "a = np.array([1, 2])\n",
    "b = np.array([-5, 4])\n",
    "\n",
    "inner = np.inner(a, b)\n",
    "norms = LA.norm(a) * LA.norm(b)\n",
    "\n",
    "cos = inner / norms\n",
    "rad = np.arccos(np.clip(cos, -1.0, 1.0))\n",
    "deg = np.rad2deg(rad)\n",
    "\n",
    "print(rad)  \n",
    "print(deg)  "
   ]
  },
  {
   "cell_type": "code",
   "execution_count": null,
   "metadata": {},
   "outputs": [],
   "source": []
  }
 ],
 "metadata": {
  "kernelspec": {
   "display_name": "Python 3",
   "language": "python",
   "name": "python3"
  },
  "language_info": {
   "codemirror_mode": {
    "name": "ipython",
    "version": 3
   },
   "file_extension": ".py",
   "mimetype": "text/x-python",
   "name": "python",
   "nbconvert_exporter": "python",
   "pygments_lexer": "ipython3",
   "version": "3.7.6"
  }
 },
 "nbformat": 4,
 "nbformat_minor": 4
}
